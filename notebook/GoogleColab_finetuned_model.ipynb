{
  "cells": [
    {
      "cell_type": "code",
      "execution_count": null,
      "metadata": {
        "colab": {
          "base_uri": "https://localhost:8080/"
        },
        "id": "EMIJ4sdoDsk3",
        "outputId": "8b838012-eec8-4602-869f-79c924350344"
      },
      "outputs": [],
      "source": [
        "!pip install datasets==3.2.0 transformers==4.47.1"
      ]
    },
    {
      "cell_type": "code",
      "execution_count": 2,
      "metadata": {
        "id": "-LQvDFGtDsHw"
      },
      "outputs": [],
      "source": [
        "from datasets import load_dataset, DatasetDict\n",
        "from transformers import AutoTokenizer, LlamaForCausalLM, Trainer, TrainingArguments"
      ]
    },
    {
      "cell_type": "code",
      "execution_count": null,
      "metadata": {},
      "outputs": [],
      "source": [
        "def train_val_test_split(dataset, split_weights: list = [0.8, 0.1, 0.1]):\n",
        "    total = sum(split_weights)\n",
        "    train_weights = split_weights[0] / total\n",
        "    val_weights = split_weights[1] / total\n",
        "    test_weights = split_weights[2] / total\n",
        "    \n",
        "    val_size = val_weights / (val_weights + test_weights)\n",
        "\n",
        "    train_test_split = dataset['train'].train_test_split(train_size=train_weights)\n",
        "    val_test_split = train_test_split['test'].train_test_split(train_size=val_size)\n",
        "    \n",
        "    dataset_split = DatasetDict({\n",
        "        \"train\": train_test_split[\"train\"],\n",
        "        \"validation\": val_test_split[\"train\"],\n",
        "        \"test\": val_test_split[\"test\"]\n",
        "    })\n",
        "    \n",
        "    print(f\"Train : {train_weights:.0%} - Val : {val_weights:.0%} - Test : {test_weights:.0%}\")\n",
        "    return dataset_split"
      ]
    },
    {
      "cell_type": "code",
      "execution_count": null,
      "metadata": {
        "id": "moetfLrWDsHx"
      },
      "outputs": [],
      "source": [
        "path_dataset = \"lavita/ChatDoctor-HealthCareMagic-100k\"\n",
        "checkpoint_model = \"meta-llama/Llama-3.1-8B\""
      ]
    },
    {
      "cell_type": "code",
      "execution_count": null,
      "metadata": {
        "id": "kMX2oBvUDsHx"
      },
      "outputs": [],
      "source": [
        "dataset = load_dataset(path_dataset)"
      ]
    },
    {
      "cell_type": "code",
      "execution_count": null,
      "metadata": {},
      "outputs": [],
      "source": [
        "tokenizer = AutoTokenizer.from_pretrained(checkpoint_model)\n",
        "if tokenizer.pad_token is None:\n",
        "    tokenizer.pad_token = tokenizer.eos_token\n",
        "model = LlamaForCausalLM.from_pretrained(checkpoint_model, device_map=\"auto\")"
      ]
    },
    {
      "cell_type": "code",
      "execution_count": null,
      "metadata": {
        "id": "J8Zv9vbqDsHx",
        "outputId": "b758e27b-e839-490e-f8e0-f7dca5594875"
      },
      "outputs": [],
      "source": [
        "dataset = train_val_test_split(dataset, [7,2,1])"
      ]
    },
    {
      "cell_type": "code",
      "execution_count": null,
      "metadata": {},
      "outputs": [],
      "source": [
        "def tokenize(example):\n",
        "    prompt = f\"{example['instruction']}\\n\\n{example['input']}\\n\\n\"\n",
        "    config = dict(truncation=True, padding=\"max_length\", max_length=512)\n",
        "    return {\n",
        "        \"input_ids\": tokenizer(prompt, **config)[\"input_ids\"],\n",
        "        \"labels\": tokenizer(example[\"output\"], **config)[\"input_ids\"]\n",
        "    }"
      ]
    },
    {
      "cell_type": "code",
      "execution_count": null,
      "metadata": {},
      "outputs": [],
      "source": [
        "dataset.map(tokenize)"
      ]
    }
  ],
  "metadata": {
    "colab": {
      "include_colab_link": true,
      "provenance": []
    },
    "kernelspec": {
      "display_name": ".venv",
      "language": "python",
      "name": "python3"
    },
    "language_info": {
      "codemirror_mode": {
        "name": "ipython",
        "version": 3
      },
      "file_extension": ".py",
      "mimetype": "text/x-python",
      "name": "python",
      "nbconvert_exporter": "python",
      "pygments_lexer": "ipython3",
      "version": "3.11.9"
    }
  },
  "nbformat": 4,
  "nbformat_minor": 0
}
