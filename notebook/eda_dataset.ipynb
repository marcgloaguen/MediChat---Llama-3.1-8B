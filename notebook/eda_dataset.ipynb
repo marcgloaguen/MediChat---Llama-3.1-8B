{
 "cells": [
  {
   "cell_type": "code",
   "execution_count": 1,
   "metadata": {},
   "outputs": [],
   "source": [
    "from pprint import pprint\n",
    "from datasets import load_dataset"
   ]
  },
  {
   "cell_type": "code",
   "execution_count": 2,
   "metadata": {},
   "outputs": [],
   "source": [
    "path = \"lavita/ChatDoctor-HealthCareMagic-100k\"\n",
    "dataset = load_dataset(path)"
   ]
  },
  {
   "cell_type": "code",
   "execution_count": 3,
   "metadata": {},
   "outputs": [
    {
     "data": {
      "text/plain": [
       "DatasetDict({\n",
       "    train: Dataset({\n",
       "        features: ['instruction', 'input', 'output'],\n",
       "        num_rows: 112165\n",
       "    })\n",
       "})"
      ]
     },
     "execution_count": 3,
     "metadata": {},
     "output_type": "execute_result"
    }
   ],
   "source": [
    "dataset"
   ]
  },
  {
   "cell_type": "code",
   "execution_count": 4,
   "metadata": {},
   "outputs": [
    {
     "data": {
      "text/plain": [
       "{'instruction': \"If you are a doctor, please answer the medical questions based on the patient's description.\",\n",
       " 'input': 'I have been having alot of catching ,pain and discomfort under my right rib.  If I twist to either side especially my right it feels like my rib actually catches on something and at times I have to stop try to catch my breath and wait for it to subside.  There are times if I am laughing too hard that it will do the same thing but normally its more so if I have twisted or moved  a certain way',\n",
       " 'output': 'Hi thanks for asking question. Here you are complaining pain in particular position esp. While turning to a side. So strong possibility is about moderate degree muscular strain. It might have occurred by heavyweight lift or during some activities. Simple analgesic taken. Take rest. Sleep in supine position. Second here Costco Chat Doctor.  Ribs are tender to touch.x-ray also useful. If cough, cold, sore throat present then respiratory infections also has to be ruled out. Treat it symptomatically. If still seems serious then x-ray done for chest. CBC will also be done. If you have yellow sclera, right abdomen pain, anorexia then do your serum liver enzyme study for detecting liver pathology. Avoid stress as it can aggravate pain. I hope you will understand my concern.'}"
      ]
     },
     "execution_count": 4,
     "metadata": {},
     "output_type": "execute_result"
    }
   ],
   "source": [
    "#  One Dataset Sample \n",
    "dataset['train'].shuffle(seed=42)[0]"
   ]
  },
  {
   "cell_type": "code",
   "execution_count": 5,
   "metadata": {},
   "outputs": [],
   "source": [
    "# Format in Polar to EDA\n",
    "pl_dataset = dataset[\"train\"].to_polars()"
   ]
  },
  {
   "cell_type": "code",
   "execution_count": 6,
   "metadata": {},
   "outputs": [
    {
     "data": {
      "text/html": [
       "<div><style>\n",
       ".dataframe > thead > tr,\n",
       ".dataframe > tbody > tr {\n",
       "  text-align: right;\n",
       "  white-space: pre-wrap;\n",
       "}\n",
       "</style>\n",
       "<small>shape: (1, 2)</small><table border=\"1\" class=\"dataframe\"><thead><tr><th>instruction</th><th>count</th></tr><tr><td>str</td><td>u32</td></tr></thead><tbody><tr><td>&quot;If you are a doctor, please an…</td><td>112165</td></tr></tbody></table></div>"
      ],
      "text/plain": [
       "shape: (1, 2)\n",
       "┌─────────────────────────────────┬────────┐\n",
       "│ instruction                     ┆ count  │\n",
       "│ ---                             ┆ ---    │\n",
       "│ str                             ┆ u32    │\n",
       "╞═════════════════════════════════╪════════╡\n",
       "│ If you are a doctor, please an… ┆ 112165 │\n",
       "└─────────────────────────────────┴────────┘"
      ]
     },
     "execution_count": 6,
     "metadata": {},
     "output_type": "execute_result"
    }
   ],
   "source": [
    "pl_dataset[\"instruction\"].value_counts()"
   ]
  },
  {
   "cell_type": "markdown",
   "metadata": {},
   "source": [
    "We have the same instruction for every samples "
   ]
  },
  {
   "cell_type": "code",
   "execution_count": 7,
   "metadata": {},
   "outputs": [
    {
     "data": {
      "text/plain": [
       "0"
      ]
     },
     "execution_count": 7,
     "metadata": {},
     "output_type": "execute_result"
    }
   ],
   "source": [
    "# Is duplicated ?\n",
    "pl_dataset.is_duplicated().sum()"
   ]
  },
  {
   "cell_type": "code",
   "execution_count": 8,
   "metadata": {},
   "outputs": [
    {
     "name": "stdout",
     "output_type": "stream",
     "text": [
      "---------------------------------------------------------------------------------------------------\n",
      "\u001b[1m\u001b[3mExample 1\u001b[0m\n",
      "\u001b[1mInput:\u001b[0m ('I hit a volleyball this after with the underside if my hand (made a fist) it bent my wrist backward causing pain. Now about 7 hrs later it is still very painful to my hand backwards and all to put '\n",
      " 'pressure on my wrist. These are fairly sharp pains. It does not hurt to pick things up or grip most objects. There is only pain when I move my hand. Thank you.')\n",
      "\u001b[1mOutput:\u001b[0m ('Dear patient You must have injured wrist ligament due to extreme stretching while playing and this is leading to pain. Still possibility of fracture needs to be ruled out, and I would advise X-ray '\n",
      " 'of involved wrist with hand anteroposterior and lateral views.  Visit radiology center nearby you and get it done. If report is normal diagnosis is wrist sprain.  Avoid game for 2 weeks and apply '\n",
      " 'wrist binder for 3 weeks. Start tab diclofenac plus serratiopeptodase combination twice a day for 5 days for pain relief. If X-ray report is abnormal you need to consult expert orthopedic surgeon '\n",
      " 'with report.  All the best.')\n",
      "\n",
      "---------------------------------------------------------------------------------------------------\n",
      "\u001b[1m\u001b[3mExample 2\u001b[0m\n",
      "\u001b[1mInput:\u001b[0m ('Hi, may I answer your health queries right now ?  Please type your query here... I weigh 100 lbs and I am diabetic ---- last month I was diagnosed with MRSA ----- I had a sore on my back that got '\n",
      " 'infected and grew to over half the size of an orange ----- since then I have lost 4 lbs and have had a severe pinch under my right rib and some swelling ----- I do not have a gallbladder anymore '\n",
      " 'it was removed in 1996 please advise what I should do and dont tell me to go to the hospital I will not step foot in one again that is where I got MRSA from in the first place thank you Chrystal')\n",
      "\u001b[1mOutput:\u001b[0m ('Thanks for posting your query to Chat Doctor. MRSA is a bacterial infection found resistant to many of the antibiotics mainly to beta lac tum group of antibiotics. If not treated properly may lead '\n",
      " 'to serious systemic infection. Vancomycin is the Chat Doctor. You should contact to your physician and advice him to give to full course antibiotic treatment as per your culture and sensitivity '\n",
      " 'report .take care .')\n",
      "\n",
      "---------------------------------------------------------------------------------------------------\n",
      "\u001b[1m\u001b[3mExample 3\u001b[0m\n",
      "\u001b[1mInput:\u001b[0m ('I am a 68 year old male in relatively good shape, non-smoker and non-drinker......have been informed that I have a small growth in my prostate. Test 2001 was 1.81......recent test is 4.66. Should '\n",
      " 'I have a biopsy? The MD is saying yes......I have other older males who say no....I would appreciate your thoughts. Sincerely, Greg Wiechert')\n",
      "\u001b[1mOutput:\u001b[0m ('Hello dear, Thank you for your contact to Chat Doctor. I read and understand your concern. I am Chat Doctor answering your concern. No, you should go for biopsy. Rising PSA level in male is having '\n",
      " \"two possibilities 1. BPH that is being prostatic hypertrophy.&2. Prostatic malignancy. There is one more test PSA velocity is used to measure the exact diagnosis if you don't want to do biopsy \"\n",
      " 'than you can do this test. High velocity of PSA is suggestive of malignancy. Biopsy will tell you exact nature of malignancy and its possible management. So in my advice you should go for biopsy '\n",
      " 'and then further management. I will be happy to answer your further concern on bit.ly/ Chat Doctor. Thank you, ChatDoctorInfectious diseases specialist, ChatDoctor.')\n",
      "\n"
     ]
    }
   ],
   "source": [
    "example_indices = [42, 830, 1750]\n",
    "WIDTH = 200\n",
    "dash_line = '-'.join('' for x in range(100))\n",
    "\n",
    "for i, index in enumerate(example_indices):\n",
    "    print(dash_line)\n",
    "    print(f'\\033[1m\\033[3mExample {i+1}\\033[0m')\n",
    "    print('\\033[1mInput:\\033[0m', end=\" \")\n",
    "    pprint(dataset['train'][index]['input'], width=WIDTH)\n",
    "    print('\\033[1mOutput:\\033[0m', end=\" \")\n",
    "    pprint(dataset['train'][index]['output'], width=WIDTH)\n",
    "    print()"
   ]
  }
 ],
 "metadata": {
  "kernelspec": {
   "display_name": ".venv",
   "language": "python",
   "name": "python3"
  },
  "language_info": {
   "codemirror_mode": {
    "name": "ipython",
    "version": 3
   },
   "file_extension": ".py",
   "mimetype": "text/x-python",
   "name": "python",
   "nbconvert_exporter": "python",
   "pygments_lexer": "ipython3",
   "version": "3.11.9"
  }
 },
 "nbformat": 4,
 "nbformat_minor": 2
}
